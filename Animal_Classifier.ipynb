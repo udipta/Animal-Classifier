{
  "nbformat": 4,
  "nbformat_minor": 0,
  "metadata": {
    "colab": {
      "name": "Animal Classifier.ipynb",
      "version": "0.3.2",
      "provenance": [],
      "collapsed_sections": [
        "ks3h5IupjSRp"
      ],
      "include_colab_link": true
    },
    "kernelspec": {
      "name": "python3",
      "display_name": "Python 3"
    },
    "accelerator": "GPU"
  },
  "cells": [
    {
      "cell_type": "markdown",
      "metadata": {
        "id": "view-in-github",
        "colab_type": "text"
      },
      "source": [
        "<a href=\"https://colab.research.google.com/github/udipta/Animal-Classifier/blob/master/Animal_Classifier.ipynb\" target=\"_parent\"><img src=\"https://colab.research.google.com/assets/colab-badge.svg\" alt=\"Open In Colab\"/></a>"
      ]
    },
    {
      "metadata": {
        "colab_type": "text",
        "id": "R8GXHu7kzMjQ"
      },
      "cell_type": "markdown",
      "source": [
        "#  **Creating your own Dataset from Google Images**\n",
        "   Inspired By Fastai  Library"
      ]
    },
    {
      "metadata": {
        "colab_type": "text",
        "id": "oYK7nOt50VeA"
      },
      "cell_type": "markdown",
      "source": [
        "\n",
        "## Get a list of URLs\n",
        "## Search and scroll\n",
        "\n",
        "Go to [Google Images](https://images.google.com/) and search for the images you are interested in. The more specific you are in your Google Search, the better the results and the less manual pruning you will have to do.\n",
        "\n",
        "Scroll down until you see a button that says **Show more results** . All the images you scrolled past are now available to download. To get more, click on the button. Then continue scrolling until you cannot scroll anymore. The maximum number of images Google Images shows is 700.\n",
        "\n",
        "## Download into file\n",
        "\n",
        "Now you must run some Javascript code in your browser which will save the URLs of all the images you want for you dataset.\n",
        "\n",
        "Press Ctrl+Shift+J in Windows/Linux and Cmd+Opt+J in Mac for Chrome and Ctrl+Shift+K in Firefox, a small window the javascript 'Console' will appear. That is where you will paste the JavaScript commands.\n",
        "\n",
        "You will need to get the urls of each of the images. You can do this by running the following commands:\n",
        "\n",
        "\n",
        "\n",
        "```javascript\n",
        "urls = Array.from(document.querySelectorAll('.rg_di .rg_meta')).map(el=>JSON.parse(el.textContent).ou);\n",
        "window.open('data:text/csv;charset=utf-8,' + escape(urls.join('\\n')));\n",
        "```\n",
        "\n",
        "\n"
      ]
    },
    {
      "metadata": {
        "colab_type": "code",
        "id": "wQ6WjY-4GAt7",
        "colab": {}
      },
      "cell_type": "code",
      "source": [
        "# import all the library's\n",
        "#pip3 install torch torchvision\n",
        "#pip3 install Pillow==4.0.0\n",
        "\n",
        "from tqdm import tqdm ,trange# for progress bar \n",
        "import os,sys,requests \n",
        "from concurrent.futures import ProcessPoolExecutor ,as_completed # Asynchronous Execution\n",
        "import numpy as np \n",
        "import matplotlib.pyplot as plt\n",
        "from pathlib import Path\n",
        "\n",
        "import torch\n",
        "from torch import nn\n",
        "import torch.nn.functional  as F\n",
        "from torch.utils.data import Dataset , DataLoader\n",
        "\n",
        "import torchvision\n",
        "from torchvision import transforms ,models"
      ],
      "execution_count": 0,
      "outputs": []
    },
    {
      "metadata": {
        "colab_type": "code",
        "id": "c_Dk4_oYq_iv",
        "outputId": "fc132298-277f-4369-d2e4-60bfd2b762ad",
        "colab": {
          "resources": {
            "http://localhost:8080/nbextensions/google.colab/files.js": {
              "data": "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",
              "ok": true,
              "headers": [
                [
                  "content-type",
                  "application/javascript"
                ]
              ],
              "status": 200,
              "status_text": ""
            }
          },
          "base_uri": "https://localhost:8080/",
          "height": 75
        }
      },
      "cell_type": "code",
      "source": [
        "# Upload the ziped file \n",
        "from google.colab import files\n",
        "uploaded = files.upload()"
      ],
      "execution_count": 2,
      "outputs": [
        {
          "output_type": "display_data",
          "data": {
            "text/html": [
              "\n",
              "     <input type=\"file\" id=\"files-a89ddf26-13f8-4160-a77a-602bb7f79efe\" name=\"files[]\" multiple disabled />\n",
              "     <output id=\"result-a89ddf26-13f8-4160-a77a-602bb7f79efe\">\n",
              "      Upload widget is only available when the cell has been executed in the\n",
              "      current browser session. Please rerun this cell to enable.\n",
              "      </output>\n",
              "      <script src=\"/nbextensions/google.colab/files.js\"></script> "
            ],
            "text/plain": [
              "<IPython.core.display.HTML object>"
            ]
          },
          "metadata": {
            "tags": []
          }
        },
        {
          "output_type": "stream",
          "text": [
            "Saving animals.zip to animals.zip\n"
          ],
          "name": "stdout"
        }
      ]
    },
    {
      "metadata": {
        "colab_type": "code",
        "id": "lfASYDE4tbex",
        "outputId": "c466a643-8c1f-47d3-81db-86690869ccdb",
        "colab": {
          "base_uri": "https://localhost:8080/",
          "height": 431
        }
      },
      "cell_type": "code",
      "source": [
        "!unzip animals.zip\n",
        "!ls -l animals"
      ],
      "execution_count": 4,
      "outputs": [
        {
          "output_type": "stream",
          "text": [
            "Archive:  animals.zip\n",
            "replace animals/dog.csv? [y]es, [n]o, [A]ll, [N]one, [r]ename: AN\n",
            "  inflating: animals/dog.csv         \n",
            "  inflating: animals/fox.csv         \n",
            "  inflating: animals/lion.csv        \n",
            "  inflating: animals/cat.csv         \n",
            "  inflating: animals/leopard.csv     \n",
            "  inflating: animals/tiger.csv       \n",
            "  inflating: animals/wolf.csv        \n",
            "  inflating: animals/elephant.csv    \n",
            "  inflating: animals/monkey.csv      \n",
            "  inflating: animals/deer.csv        \n",
            "total 760\n",
            "-rw-rw-r-- 1 root root 79860 Mar  9 11:10 cat.csv\n",
            "-rw-rw-r-- 1 root root 74826 Mar  9 11:42 deer.csv\n",
            "-rw-rw-r-- 1 root root 83059 Mar  9 11:09 dog.csv\n",
            "-rw-rw-r-- 1 root root 84165 Mar  9 11:41 elephant.csv\n",
            "-rw-rw-r-- 1 root root 62155 Mar  9 11:12 fox.csv\n",
            "-rw-rw-r-- 1 root root 79299 Mar  9 11:14 leopard.csv\n",
            "-rw-rw-r-- 1 root root 72172 Mar  9 11:13 lion.csv\n",
            "-rw-rw-r-- 1 root root 80821 Mar  9 11:43 monkey.csv\n",
            "-rw-rw-r-- 1 root root 76880 Mar  9 11:14 tiger.csv\n",
            "-rw-rw-r-- 1 root root 64933 Mar  9 11:15 wolf.csv\n"
          ],
          "name": "stdout"
        }
      ]
    },
    {
      "metadata": {
        "colab_type": "code",
        "id": "sCaeH916o6Lc",
        "colab": {}
      },
      "cell_type": "code",
      "source": [
        "def download_url(url:str, dest:str, overwrite:bool=False, chunk_size=1024*1024, timeout=4):\n",
        "    \"Download `url` to `dest` unless it exists and not `overwrite`.\"\n",
        "    if os.path.exists(dest) and not overwrite: return\n",
        "\n",
        "    u = requests.get(url, stream=True, timeout=timeout)\n",
        "    try: file_size = int(u.headers[\"Content-Length\"])\n",
        "    except: pass\n",
        "        \n",
        "    with open(dest, 'wb') as f:\n",
        "        for chunk in u.iter_content(chunk_size=chunk_size):\n",
        "            f.write(chunk)\n",
        "\n",
        "def download_images(urls:str, dest:Path, max_pics:int=1000, max_workers:int=8, timeout=4,prefix=None,show_progress=True):\n",
        "    \"Download images listed in text file urls to path dest , at most max_pics\"\n",
        "    urls = open(urls).read().strip().split(\"\\n\")[:max_pics] # get all the urls in the list\n",
        "    dest = Path(dest) # get the path of the folder \n",
        "    dest.mkdir(exist_ok=True) # create all the parent and child directory if neccessary. \n",
        "\n",
        "    if max_workers: # use the power of multiprocessing\n",
        "        with ProcessPoolExecutor(max_workers=max_workers) as ex: # use a ProcessPoolExecutor for using pool of process to execute call asynchronously.\n",
        "             # submit schedules the callable and return a Future object on completion. We iterate through all the urls to create Future objects for each url \n",
        "            futures = [ex.submit(download_url, url, dest/f\"{i:08d}.jpg\", timeout=timeout) for i,url in enumerate(urls)]\n",
        "            if show_progress : \n",
        "                for f in tqdm(as_completed(futures), total=len(urls),desc=prefix): pass # show th progress bar"
      ],
      "execution_count": 0,
      "outputs": []
    },
    {
      "metadata": {
        "colab_type": "code",
        "id": "c-GIyV446djY",
        "outputId": "7cbfe615-9291-4bbe-9808-296c60782f89",
        "colab": {
          "base_uri": "https://localhost:8080/",
          "height": 197
        }
      },
      "cell_type": "code",
      "source": [
        "# get the path for all csv files\n",
        "animalspath = Path(\"animals\")\n",
        "animalspath = [ Path(child) for child in animalspath.iterdir()]\n",
        "animalspath"
      ],
      "execution_count": 7,
      "outputs": [
        {
          "output_type": "execute_result",
          "data": {
            "text/plain": [
              "[PosixPath('animals/wolf.csv'),\n",
              " PosixPath('animals/elephant.csv'),\n",
              " PosixPath('animals/leopard.csv'),\n",
              " PosixPath('animals/dog.csv'),\n",
              " PosixPath('animals/lion.csv'),\n",
              " PosixPath('animals/tiger.csv'),\n",
              " PosixPath('animals/fox.csv'),\n",
              " PosixPath('animals/cat.csv'),\n",
              " PosixPath('animals/monkey.csv'),\n",
              " PosixPath('animals/deer.csv')]"
            ]
          },
          "metadata": {
            "tags": []
          },
          "execution_count": 7
        }
      ]
    },
    {
      "metadata": {
        "colab_type": "code",
        "id": "ArS40t5rppb6",
        "outputId": "d3434d9c-bee7-4ad6-8555-b98ec573833a",
        "colab": {
          "base_uri": "https://localhost:8080/",
          "height": 377
        }
      },
      "cell_type": "code",
      "source": [
        "import re\n",
        "from pprint import pprint \n",
        "all_animals_Name = [re.sub(r\".csv|\\.\\s|\\s*|\\’\" , r\"\", x.name) for x in animalspath] # Get all the animals name from the csv file\n",
        "pprint(all_animals_Name)\n",
        "folder_file = {x:y for x ,y in zip(all_animals_Name , animalspath)} # create a folder name the file name dictionary \n",
        "pprint(folder_file)"
      ],
      "execution_count": 8,
      "outputs": [
        {
          "output_type": "stream",
          "text": [
            "['wolf',\n",
            " 'elephant',\n",
            " 'leopard',\n",
            " 'dog',\n",
            " 'lion',\n",
            " 'tiger',\n",
            " 'fox',\n",
            " 'cat',\n",
            " 'monkey',\n",
            " 'deer']\n",
            "{'cat': PosixPath('animals/cat.csv'),\n",
            " 'deer': PosixPath('animals/deer.csv'),\n",
            " 'dog': PosixPath('animals/dog.csv'),\n",
            " 'elephant': PosixPath('animals/elephant.csv'),\n",
            " 'fox': PosixPath('animals/fox.csv'),\n",
            " 'leopard': PosixPath('animals/leopard.csv'),\n",
            " 'lion': PosixPath('animals/lion.csv'),\n",
            " 'monkey': PosixPath('animals/monkey.csv'),\n",
            " 'tiger': PosixPath('animals/tiger.csv'),\n",
            " 'wolf': PosixPath('animals/wolf.csv')}\n"
          ],
          "name": "stdout"
        }
      ]
    },
    {
      "metadata": {
        "colab_type": "code",
        "id": "mx3NbCz16ua9",
        "outputId": "27fd689a-d28f-4809-c24c-95101f35f385",
        "colab": {
          "base_uri": "https://localhost:8080/",
          "height": 197
        }
      },
      "cell_type": "code",
      "source": [
        "# download all the images \n",
        "for folder,file in folder_file.items():\n",
        "    path = Path(\"train\") # create a parent directory   \n",
        "    dest = path/folder # Specific folder for each bird\n",
        "    dest.mkdir(parents=True,exist_ok=True)\n",
        "    download_images(file, dest,prefix=folder,max_workers=16)"
      ],
      "execution_count": 9,
      "outputs": [
        {
          "output_type": "stream",
          "text": [
            "wolf: 100%|██████████| 682/682 [00:43<00:00, 10.74it/s]\n",
            "elephant: 100%|██████████| 855/855 [01:34<00:00,  5.75s/it]\n",
            "leopard: 100%|██████████| 832/832 [01:23<00:00,  2.22it/s]\n",
            "dog: 100%|██████████| 839/839 [01:10<00:00,  2.66s/it]\n",
            "lion: 100%|██████████| 753/753 [00:56<00:00, 13.44it/s]\n",
            "tiger: 100%|██████████| 768/768 [00:47<00:00,  3.73it/s]\n",
            "fox: 100%|██████████| 660/660 [00:44<00:00,  8.50it/s]\n",
            "cat: 100%|██████████| 799/799 [00:48<00:00,  1.26s/it]\n",
            "monkey: 100%|██████████| 822/822 [00:54<00:00, 15.21it/s]\n",
            "deer: 100%|██████████| 714/714 [00:49<00:00, 14.43it/s]\n"
          ],
          "name": "stderr"
        }
      ]
    },
    {
      "metadata": {
        "colab_type": "code",
        "id": "KpivGLyOtfcS",
        "colab": {
          "base_uri": "https://localhost:8080/",
          "height": 197
        },
        "outputId": "cbf3820e-a264-4b0e-b476-12cd7f428f97"
      },
      "cell_type": "code",
      "source": [
        "length = lambda iterrator : len(tuple(iterrator))\n",
        "animalsPerClassCount = { (path/folder).name : length((path/folder).iterdir()) for folder,file in folder_file.items() }\n",
        "sorted(animalsPerClassCount.items() , key=lambda x :x[1])"
      ],
      "execution_count": 10,
      "outputs": [
        {
          "output_type": "execute_result",
          "data": {
            "text/plain": [
              "[('fox', 648),\n",
              " ('wolf', 677),\n",
              " ('deer', 704),\n",
              " ('lion', 745),\n",
              " ('tiger', 749),\n",
              " ('cat', 780),\n",
              " ('monkey', 815),\n",
              " ('leopard', 821),\n",
              " ('dog', 833),\n",
              " ('elephant', 847)]"
            ]
          },
          "metadata": {
            "tags": []
          },
          "execution_count": 10
        }
      ]
    },
    {
      "metadata": {
        "colab_type": "code",
        "id": "FBBjtKenyYF1",
        "colab": {}
      },
      "cell_type": "code",
      "source": [
        "import PIL\n",
        "def verify_image(file:Path, delete:bool ,dest:Path=None, n_channels:int=3, **kwargs):\n",
        "    \"\"\"Check if the image in `file` exists, can be opend and has `n_channels`. If `delete`, removes it if it fails.\n",
        "        Result is stored in `dest` `img_format` and `kwargs` are passed to PIL.Image.save.\"\"\"\n",
        "    try:\n",
        "        img = PIL.Image.open(file)\n",
        "        assert isinstance(dest, Path), \"You should provide `dest` Path to save resized image\"\n",
        "        if not file.is_file(): return\n",
        "        if n_channels == 3: img = img.convert(\"RGB\")\n",
        "        img.save(file, **kwargs)\n",
        "        img = np.array(img)\n",
        "        img_channels = 1 if len(img.shape) == 2 else img.shape[2]\n",
        "        assert img_channels == n_channels, f\"Image {file} has {img_channels} instead of {n_channels}\"\n",
        "    except Exception as e:\n",
        "        #print(f'{e}')\n",
        "        if delete: file.unlink()\n",
        "\n",
        "def verify_images(path:Path, delete:bool=True, max_workers:int=4 , dest:Path=\".\",n_channels:int=3,**kwargs):\n",
        "    \"\"\"Check if the image in `path` exists, can be opened and has `n_channels`.\n",
        "    If `n_channels` is 3 – it'll try to convert image to RGB. If `delete`, removes it if it fails.\n",
        "    If `max_size` is specifided,\n",
        "    image is resized to the same ratio so that both sizes are less than `max_size`, using `interp`.\n",
        "    Result is stored in `dest`, `ext` forces an extension type, `img_format` and `kwargs` are\n",
        "    passed to PIL.Image.save. Use `max_workers` CPUs.\"\"\"\n",
        "    dest = path/Path(dest)\n",
        "    dest.mkdir(exist_ok=True)\n",
        "    with ProcessPoolExecutor(max_workers=max_workers) as ex:\n",
        "        files = [Path(file) for file in path.iterdir()]\n",
        "        futures = [ex.submit(verify_image, file, delete=delete,dest=dest, n_channels=n_channels, **kwargs) for file in files]\n",
        "    for f in tqdm(as_completed(futures), total=len(files) , desc=path.name): pass"
      ],
      "execution_count": 0,
      "outputs": []
    },
    {
      "metadata": {
        "colab_type": "code",
        "id": "Hr87BXiPydTw",
        "outputId": "37a88cdd-d50d-4bc4-edce-aaa55b8a66f6",
        "colab": {
          "base_uri": "https://localhost:8080/",
          "height": 937
        }
      },
      "cell_type": "code",
      "source": [
        "for folder,file in folder_file.items():\n",
        "    path = Path(\"train\")\n",
        "    verify_images(path/folder,delete=True)"
      ],
      "execution_count": 12,
      "outputs": [
        {
          "output_type": "stream",
          "text": [
            "/usr/local/lib/python3.6/dist-packages/PIL/Image.py:885: UserWarning: Palette images with Transparency   expressed in bytes should be converted to RGBA images\n",
            "  'to RGBA images')\n",
            "/usr/local/lib/python3.6/dist-packages/PIL/TiffImagePlugin.py:709: UserWarning: Corrupt EXIF data.  Expecting to read 4 bytes but only got 0. \n",
            "  warnings.warn(str(msg))\n",
            "/usr/local/lib/python3.6/dist-packages/PIL/Image.py:885: UserWarning: Palette images with Transparency   expressed in bytes should be converted to RGBA images\n",
            "  'to RGBA images')\n",
            "/usr/local/lib/python3.6/dist-packages/PIL/Image.py:885: UserWarning: Palette images with Transparency   expressed in bytes should be converted to RGBA images\n",
            "  'to RGBA images')\n",
            "wolf: 100%|██████████| 677/677 [00:00<00:00, 190688.59it/s]\n",
            "/usr/local/lib/python3.6/dist-packages/PIL/Image.py:885: UserWarning: Palette images with Transparency   expressed in bytes should be converted to RGBA images\n",
            "  'to RGBA images')\n",
            "/usr/local/lib/python3.6/dist-packages/PIL/Image.py:885: UserWarning: Palette images with Transparency   expressed in bytes should be converted to RGBA images\n",
            "  'to RGBA images')\n",
            "elephant: 100%|██████████| 847/847 [00:00<00:00, 208472.24it/s]\n",
            "/usr/local/lib/python3.6/dist-packages/PIL/TiffImagePlugin.py:692: UserWarning: Possibly corrupt EXIF data.  Expecting to read 20 bytes but only got 6. Skipping tag 36867\n",
            "  \"Skipping tag %s\" % (size, len(data), tag))\n",
            "leopard: 100%|██████████| 821/821 [00:00<00:00, 215786.66it/s]\n",
            "/usr/local/lib/python3.6/dist-packages/PIL/Image.py:885: UserWarning: Palette images with Transparency   expressed in bytes should be converted to RGBA images\n",
            "  'to RGBA images')\n",
            "/usr/local/lib/python3.6/dist-packages/PIL/Image.py:885: UserWarning: Palette images with Transparency   expressed in bytes should be converted to RGBA images\n",
            "  'to RGBA images')\n",
            "/usr/local/lib/python3.6/dist-packages/PIL/Image.py:885: UserWarning: Palette images with Transparency   expressed in bytes should be converted to RGBA images\n",
            "  'to RGBA images')\n",
            "dog: 100%|██████████| 833/833 [00:00<00:00, 210194.64it/s]\n",
            "/usr/local/lib/python3.6/dist-packages/PIL/Image.py:885: UserWarning: Palette images with Transparency   expressed in bytes should be converted to RGBA images\n",
            "  'to RGBA images')\n",
            "/usr/local/lib/python3.6/dist-packages/PIL/Image.py:885: UserWarning: Palette images with Transparency   expressed in bytes should be converted to RGBA images\n",
            "  'to RGBA images')\n",
            "/usr/local/lib/python3.6/dist-packages/PIL/Image.py:885: UserWarning: Palette images with Transparency   expressed in bytes should be converted to RGBA images\n",
            "  'to RGBA images')\n",
            "lion: 100%|██████████| 745/745 [00:00<00:00, 205779.16it/s]\n",
            "/usr/local/lib/python3.6/dist-packages/PIL/Image.py:885: UserWarning: Palette images with Transparency   expressed in bytes should be converted to RGBA images\n",
            "  'to RGBA images')\n",
            "tiger: 100%|██████████| 749/749 [00:00<00:00, 207842.12it/s]\n",
            "/usr/local/lib/python3.6/dist-packages/PIL/Image.py:885: UserWarning: Palette images with Transparency   expressed in bytes should be converted to RGBA images\n",
            "  'to RGBA images')\n",
            "/usr/local/lib/python3.6/dist-packages/PIL/Image.py:885: UserWarning: Palette images with Transparency   expressed in bytes should be converted to RGBA images\n",
            "  'to RGBA images')\n",
            "/usr/local/lib/python3.6/dist-packages/PIL/Image.py:885: UserWarning: Palette images with Transparency   expressed in bytes should be converted to RGBA images\n",
            "  'to RGBA images')\n",
            "fox: 100%|██████████| 648/648 [00:00<00:00, 124520.50it/s]\n",
            "cat: 100%|██████████| 780/780 [00:00<00:00, 207034.37it/s]\n",
            "/usr/local/lib/python3.6/dist-packages/PIL/Image.py:885: UserWarning: Palette images with Transparency   expressed in bytes should be converted to RGBA images\n",
            "  'to RGBA images')\n",
            "/usr/local/lib/python3.6/dist-packages/PIL/Image.py:885: UserWarning: Palette images with Transparency   expressed in bytes should be converted to RGBA images\n",
            "  'to RGBA images')\n",
            "monkey: 100%|██████████| 815/815 [00:00<00:00, 100548.81it/s]\n",
            "/usr/local/lib/python3.6/dist-packages/PIL/Image.py:885: UserWarning: Palette images with Transparency   expressed in bytes should be converted to RGBA images\n",
            "  'to RGBA images')\n",
            "deer: 100%|██████████| 704/704 [00:00<00:00, 201762.21it/s]\n"
          ],
          "name": "stderr"
        }
      ]
    },
    {
      "metadata": {
        "colab_type": "code",
        "id": "pid9fWsMygpQ",
        "outputId": "a8fe8391-5ba3-4738-b370-6a78c2238e22",
        "colab": {
          "base_uri": "https://localhost:8080/",
          "height": 197
        }
      },
      "cell_type": "code",
      "source": [
        "animalsPerClassCountVerify = { (path/folder).name :len([*(path/folder).iterdir()]) for folder,file in folder_file.items() }\n",
        "sorted(animalsPerClassCountVerify.items() , key=lambda x :x[1])"
      ],
      "execution_count": 13,
      "outputs": [
        {
          "output_type": "execute_result",
          "data": {
            "text/plain": [
              "[('fox', 614),\n",
              " ('wolf', 650),\n",
              " ('deer', 670),\n",
              " ('tiger', 699),\n",
              " ('lion', 716),\n",
              " ('cat', 742),\n",
              " ('elephant', 775),\n",
              " ('leopard', 779),\n",
              " ('dog', 786),\n",
              " ('monkey', 795)]"
            ]
          },
          "metadata": {
            "tags": []
          },
          "execution_count": 13
        }
      ]
    },
    {
      "metadata": {
        "colab_type": "code",
        "id": "lnVFrQD06P7A",
        "colab": {}
      },
      "cell_type": "code",
      "source": [
        " \n",
        " "
      ],
      "execution_count": 0,
      "outputs": []
    },
    {
      "metadata": {
        "colab_type": "code",
        "id": "zYqcR-mb8uHm",
        "colab": {}
      },
      "cell_type": "code",
      "source": [
        ""
      ],
      "execution_count": 0,
      "outputs": []
    },
    {
      "metadata": {
        "id": "oLDxLJ_5H8yI",
        "colab_type": "text"
      },
      "cell_type": "markdown",
      "source": [
        "#**Transfer Learning**"
      ]
    },
    {
      "metadata": {
        "colab_type": "code",
        "id": "_XtikPyW79GT",
        "outputId": "527f2dcd-d1c2-457d-9efc-a83e5930029c",
        "colab": {
          "base_uri": "https://localhost:8080/",
          "height": 71
        }
      },
      "cell_type": "code",
      "source": [
        "model = models.resnet50(pretrained=True) # load the pretrained model\n",
        "num_features = model.fc.in_features # get the no of on_features in last Linear unit\n",
        "print(num_features)\n",
        "## freeze the entire convolution base\n",
        "for param in model.parameters():\n",
        "  param.requires_grad_(False)\n"
      ],
      "execution_count": 14,
      "outputs": [
        {
          "output_type": "stream",
          "text": [
            "Downloading: \"https://download.pytorch.org/models/resnet50-19c8e357.pth\" to /root/.torch/models/resnet50-19c8e357.pth\n",
            "102502400it [00:01, 87869788.62it/s]\n"
          ],
          "name": "stderr"
        },
        {
          "output_type": "stream",
          "text": [
            "2048\n"
          ],
          "name": "stdout"
        }
      ]
    },
    {
      "metadata": {
        "colab_type": "code",
        "id": "jQyFChlsdiSb",
        "outputId": "9cac0f7a-4bd7-4fbd-b23e-ff39aeddc528",
        "colab": {
          "base_uri": "https://localhost:8080/",
          "height": 3365
        }
      },
      "cell_type": "code",
      "source": [
        "def create_head(num_features , number_classes ,dropout_prob=0.5 ,activation_func =nn.ReLU):\n",
        "  features_lst = [num_features , num_features//2 , num_features//4]\n",
        "  layers = []\n",
        "  for in_f ,out_f in zip(features_lst[:-1] , features_lst[1:]):\n",
        "    layers.append(nn.Linear(in_f , out_f))\n",
        "    layers.append(activation_func())\n",
        "    layers.append(nn.BatchNorm1d(out_f))\n",
        "    if dropout_prob !=0 : layers.append(nn.Dropout(dropout_prob))\n",
        "  layers.append(nn.Linear(features_lst[-1] , number_classes))\n",
        "  return nn.Sequential(*layers)\n",
        "\n",
        "top_head = create_head(num_features , len(animalsPerClassCount)) # because ten classes\n",
        "model.fc = top_head # replace the fully connected layer\n",
        "\n",
        "model"
      ],
      "execution_count": 15,
      "outputs": [
        {
          "output_type": "execute_result",
          "data": {
            "text/plain": [
              "ResNet(\n",
              "  (conv1): Conv2d(3, 64, kernel_size=(7, 7), stride=(2, 2), padding=(3, 3), bias=False)\n",
              "  (bn1): BatchNorm2d(64, eps=1e-05, momentum=0.1, affine=True, track_running_stats=True)\n",
              "  (relu): ReLU(inplace)\n",
              "  (maxpool): MaxPool2d(kernel_size=3, stride=2, padding=1, dilation=1, ceil_mode=False)\n",
              "  (layer1): Sequential(\n",
              "    (0): Bottleneck(\n",
              "      (conv1): Conv2d(64, 64, kernel_size=(1, 1), stride=(1, 1), bias=False)\n",
              "      (bn1): BatchNorm2d(64, eps=1e-05, momentum=0.1, affine=True, track_running_stats=True)\n",
              "      (conv2): Conv2d(64, 64, kernel_size=(3, 3), stride=(1, 1), padding=(1, 1), bias=False)\n",
              "      (bn2): BatchNorm2d(64, eps=1e-05, momentum=0.1, affine=True, track_running_stats=True)\n",
              "      (conv3): Conv2d(64, 256, kernel_size=(1, 1), stride=(1, 1), bias=False)\n",
              "      (bn3): BatchNorm2d(256, eps=1e-05, momentum=0.1, affine=True, track_running_stats=True)\n",
              "      (relu): ReLU(inplace)\n",
              "      (downsample): Sequential(\n",
              "        (0): Conv2d(64, 256, kernel_size=(1, 1), stride=(1, 1), bias=False)\n",
              "        (1): BatchNorm2d(256, eps=1e-05, momentum=0.1, affine=True, track_running_stats=True)\n",
              "      )\n",
              "    )\n",
              "    (1): Bottleneck(\n",
              "      (conv1): Conv2d(256, 64, kernel_size=(1, 1), stride=(1, 1), bias=False)\n",
              "      (bn1): BatchNorm2d(64, eps=1e-05, momentum=0.1, affine=True, track_running_stats=True)\n",
              "      (conv2): Conv2d(64, 64, kernel_size=(3, 3), stride=(1, 1), padding=(1, 1), bias=False)\n",
              "      (bn2): BatchNorm2d(64, eps=1e-05, momentum=0.1, affine=True, track_running_stats=True)\n",
              "      (conv3): Conv2d(64, 256, kernel_size=(1, 1), stride=(1, 1), bias=False)\n",
              "      (bn3): BatchNorm2d(256, eps=1e-05, momentum=0.1, affine=True, track_running_stats=True)\n",
              "      (relu): ReLU(inplace)\n",
              "    )\n",
              "    (2): Bottleneck(\n",
              "      (conv1): Conv2d(256, 64, kernel_size=(1, 1), stride=(1, 1), bias=False)\n",
              "      (bn1): BatchNorm2d(64, eps=1e-05, momentum=0.1, affine=True, track_running_stats=True)\n",
              "      (conv2): Conv2d(64, 64, kernel_size=(3, 3), stride=(1, 1), padding=(1, 1), bias=False)\n",
              "      (bn2): BatchNorm2d(64, eps=1e-05, momentum=0.1, affine=True, track_running_stats=True)\n",
              "      (conv3): Conv2d(64, 256, kernel_size=(1, 1), stride=(1, 1), bias=False)\n",
              "      (bn3): BatchNorm2d(256, eps=1e-05, momentum=0.1, affine=True, track_running_stats=True)\n",
              "      (relu): ReLU(inplace)\n",
              "    )\n",
              "  )\n",
              "  (layer2): Sequential(\n",
              "    (0): Bottleneck(\n",
              "      (conv1): Conv2d(256, 128, kernel_size=(1, 1), stride=(1, 1), bias=False)\n",
              "      (bn1): BatchNorm2d(128, eps=1e-05, momentum=0.1, affine=True, track_running_stats=True)\n",
              "      (conv2): Conv2d(128, 128, kernel_size=(3, 3), stride=(2, 2), padding=(1, 1), bias=False)\n",
              "      (bn2): BatchNorm2d(128, eps=1e-05, momentum=0.1, affine=True, track_running_stats=True)\n",
              "      (conv3): Conv2d(128, 512, kernel_size=(1, 1), stride=(1, 1), bias=False)\n",
              "      (bn3): BatchNorm2d(512, eps=1e-05, momentum=0.1, affine=True, track_running_stats=True)\n",
              "      (relu): ReLU(inplace)\n",
              "      (downsample): Sequential(\n",
              "        (0): Conv2d(256, 512, kernel_size=(1, 1), stride=(2, 2), bias=False)\n",
              "        (1): BatchNorm2d(512, eps=1e-05, momentum=0.1, affine=True, track_running_stats=True)\n",
              "      )\n",
              "    )\n",
              "    (1): Bottleneck(\n",
              "      (conv1): Conv2d(512, 128, kernel_size=(1, 1), stride=(1, 1), bias=False)\n",
              "      (bn1): BatchNorm2d(128, eps=1e-05, momentum=0.1, affine=True, track_running_stats=True)\n",
              "      (conv2): Conv2d(128, 128, kernel_size=(3, 3), stride=(1, 1), padding=(1, 1), bias=False)\n",
              "      (bn2): BatchNorm2d(128, eps=1e-05, momentum=0.1, affine=True, track_running_stats=True)\n",
              "      (conv3): Conv2d(128, 512, kernel_size=(1, 1), stride=(1, 1), bias=False)\n",
              "      (bn3): BatchNorm2d(512, eps=1e-05, momentum=0.1, affine=True, track_running_stats=True)\n",
              "      (relu): ReLU(inplace)\n",
              "    )\n",
              "    (2): Bottleneck(\n",
              "      (conv1): Conv2d(512, 128, kernel_size=(1, 1), stride=(1, 1), bias=False)\n",
              "      (bn1): BatchNorm2d(128, eps=1e-05, momentum=0.1, affine=True, track_running_stats=True)\n",
              "      (conv2): Conv2d(128, 128, kernel_size=(3, 3), stride=(1, 1), padding=(1, 1), bias=False)\n",
              "      (bn2): BatchNorm2d(128, eps=1e-05, momentum=0.1, affine=True, track_running_stats=True)\n",
              "      (conv3): Conv2d(128, 512, kernel_size=(1, 1), stride=(1, 1), bias=False)\n",
              "      (bn3): BatchNorm2d(512, eps=1e-05, momentum=0.1, affine=True, track_running_stats=True)\n",
              "      (relu): ReLU(inplace)\n",
              "    )\n",
              "    (3): Bottleneck(\n",
              "      (conv1): Conv2d(512, 128, kernel_size=(1, 1), stride=(1, 1), bias=False)\n",
              "      (bn1): BatchNorm2d(128, eps=1e-05, momentum=0.1, affine=True, track_running_stats=True)\n",
              "      (conv2): Conv2d(128, 128, kernel_size=(3, 3), stride=(1, 1), padding=(1, 1), bias=False)\n",
              "      (bn2): BatchNorm2d(128, eps=1e-05, momentum=0.1, affine=True, track_running_stats=True)\n",
              "      (conv3): Conv2d(128, 512, kernel_size=(1, 1), stride=(1, 1), bias=False)\n",
              "      (bn3): BatchNorm2d(512, eps=1e-05, momentum=0.1, affine=True, track_running_stats=True)\n",
              "      (relu): ReLU(inplace)\n",
              "    )\n",
              "  )\n",
              "  (layer3): Sequential(\n",
              "    (0): Bottleneck(\n",
              "      (conv1): Conv2d(512, 256, kernel_size=(1, 1), stride=(1, 1), bias=False)\n",
              "      (bn1): BatchNorm2d(256, eps=1e-05, momentum=0.1, affine=True, track_running_stats=True)\n",
              "      (conv2): Conv2d(256, 256, kernel_size=(3, 3), stride=(2, 2), padding=(1, 1), bias=False)\n",
              "      (bn2): BatchNorm2d(256, eps=1e-05, momentum=0.1, affine=True, track_running_stats=True)\n",
              "      (conv3): Conv2d(256, 1024, kernel_size=(1, 1), stride=(1, 1), bias=False)\n",
              "      (bn3): BatchNorm2d(1024, eps=1e-05, momentum=0.1, affine=True, track_running_stats=True)\n",
              "      (relu): ReLU(inplace)\n",
              "      (downsample): Sequential(\n",
              "        (0): Conv2d(512, 1024, kernel_size=(1, 1), stride=(2, 2), bias=False)\n",
              "        (1): BatchNorm2d(1024, eps=1e-05, momentum=0.1, affine=True, track_running_stats=True)\n",
              "      )\n",
              "    )\n",
              "    (1): Bottleneck(\n",
              "      (conv1): Conv2d(1024, 256, kernel_size=(1, 1), stride=(1, 1), bias=False)\n",
              "      (bn1): BatchNorm2d(256, eps=1e-05, momentum=0.1, affine=True, track_running_stats=True)\n",
              "      (conv2): Conv2d(256, 256, kernel_size=(3, 3), stride=(1, 1), padding=(1, 1), bias=False)\n",
              "      (bn2): BatchNorm2d(256, eps=1e-05, momentum=0.1, affine=True, track_running_stats=True)\n",
              "      (conv3): Conv2d(256, 1024, kernel_size=(1, 1), stride=(1, 1), bias=False)\n",
              "      (bn3): BatchNorm2d(1024, eps=1e-05, momentum=0.1, affine=True, track_running_stats=True)\n",
              "      (relu): ReLU(inplace)\n",
              "    )\n",
              "    (2): Bottleneck(\n",
              "      (conv1): Conv2d(1024, 256, kernel_size=(1, 1), stride=(1, 1), bias=False)\n",
              "      (bn1): BatchNorm2d(256, eps=1e-05, momentum=0.1, affine=True, track_running_stats=True)\n",
              "      (conv2): Conv2d(256, 256, kernel_size=(3, 3), stride=(1, 1), padding=(1, 1), bias=False)\n",
              "      (bn2): BatchNorm2d(256, eps=1e-05, momentum=0.1, affine=True, track_running_stats=True)\n",
              "      (conv3): Conv2d(256, 1024, kernel_size=(1, 1), stride=(1, 1), bias=False)\n",
              "      (bn3): BatchNorm2d(1024, eps=1e-05, momentum=0.1, affine=True, track_running_stats=True)\n",
              "      (relu): ReLU(inplace)\n",
              "    )\n",
              "    (3): Bottleneck(\n",
              "      (conv1): Conv2d(1024, 256, kernel_size=(1, 1), stride=(1, 1), bias=False)\n",
              "      (bn1): BatchNorm2d(256, eps=1e-05, momentum=0.1, affine=True, track_running_stats=True)\n",
              "      (conv2): Conv2d(256, 256, kernel_size=(3, 3), stride=(1, 1), padding=(1, 1), bias=False)\n",
              "      (bn2): BatchNorm2d(256, eps=1e-05, momentum=0.1, affine=True, track_running_stats=True)\n",
              "      (conv3): Conv2d(256, 1024, kernel_size=(1, 1), stride=(1, 1), bias=False)\n",
              "      (bn3): BatchNorm2d(1024, eps=1e-05, momentum=0.1, affine=True, track_running_stats=True)\n",
              "      (relu): ReLU(inplace)\n",
              "    )\n",
              "    (4): Bottleneck(\n",
              "      (conv1): Conv2d(1024, 256, kernel_size=(1, 1), stride=(1, 1), bias=False)\n",
              "      (bn1): BatchNorm2d(256, eps=1e-05, momentum=0.1, affine=True, track_running_stats=True)\n",
              "      (conv2): Conv2d(256, 256, kernel_size=(3, 3), stride=(1, 1), padding=(1, 1), bias=False)\n",
              "      (bn2): BatchNorm2d(256, eps=1e-05, momentum=0.1, affine=True, track_running_stats=True)\n",
              "      (conv3): Conv2d(256, 1024, kernel_size=(1, 1), stride=(1, 1), bias=False)\n",
              "      (bn3): BatchNorm2d(1024, eps=1e-05, momentum=0.1, affine=True, track_running_stats=True)\n",
              "      (relu): ReLU(inplace)\n",
              "    )\n",
              "    (5): Bottleneck(\n",
              "      (conv1): Conv2d(1024, 256, kernel_size=(1, 1), stride=(1, 1), bias=False)\n",
              "      (bn1): BatchNorm2d(256, eps=1e-05, momentum=0.1, affine=True, track_running_stats=True)\n",
              "      (conv2): Conv2d(256, 256, kernel_size=(3, 3), stride=(1, 1), padding=(1, 1), bias=False)\n",
              "      (bn2): BatchNorm2d(256, eps=1e-05, momentum=0.1, affine=True, track_running_stats=True)\n",
              "      (conv3): Conv2d(256, 1024, kernel_size=(1, 1), stride=(1, 1), bias=False)\n",
              "      (bn3): BatchNorm2d(1024, eps=1e-05, momentum=0.1, affine=True, track_running_stats=True)\n",
              "      (relu): ReLU(inplace)\n",
              "    )\n",
              "  )\n",
              "  (layer4): Sequential(\n",
              "    (0): Bottleneck(\n",
              "      (conv1): Conv2d(1024, 512, kernel_size=(1, 1), stride=(1, 1), bias=False)\n",
              "      (bn1): BatchNorm2d(512, eps=1e-05, momentum=0.1, affine=True, track_running_stats=True)\n",
              "      (conv2): Conv2d(512, 512, kernel_size=(3, 3), stride=(2, 2), padding=(1, 1), bias=False)\n",
              "      (bn2): BatchNorm2d(512, eps=1e-05, momentum=0.1, affine=True, track_running_stats=True)\n",
              "      (conv3): Conv2d(512, 2048, kernel_size=(1, 1), stride=(1, 1), bias=False)\n",
              "      (bn3): BatchNorm2d(2048, eps=1e-05, momentum=0.1, affine=True, track_running_stats=True)\n",
              "      (relu): ReLU(inplace)\n",
              "      (downsample): Sequential(\n",
              "        (0): Conv2d(1024, 2048, kernel_size=(1, 1), stride=(2, 2), bias=False)\n",
              "        (1): BatchNorm2d(2048, eps=1e-05, momentum=0.1, affine=True, track_running_stats=True)\n",
              "      )\n",
              "    )\n",
              "    (1): Bottleneck(\n",
              "      (conv1): Conv2d(2048, 512, kernel_size=(1, 1), stride=(1, 1), bias=False)\n",
              "      (bn1): BatchNorm2d(512, eps=1e-05, momentum=0.1, affine=True, track_running_stats=True)\n",
              "      (conv2): Conv2d(512, 512, kernel_size=(3, 3), stride=(1, 1), padding=(1, 1), bias=False)\n",
              "      (bn2): BatchNorm2d(512, eps=1e-05, momentum=0.1, affine=True, track_running_stats=True)\n",
              "      (conv3): Conv2d(512, 2048, kernel_size=(1, 1), stride=(1, 1), bias=False)\n",
              "      (bn3): BatchNorm2d(2048, eps=1e-05, momentum=0.1, affine=True, track_running_stats=True)\n",
              "      (relu): ReLU(inplace)\n",
              "    )\n",
              "    (2): Bottleneck(\n",
              "      (conv1): Conv2d(2048, 512, kernel_size=(1, 1), stride=(1, 1), bias=False)\n",
              "      (bn1): BatchNorm2d(512, eps=1e-05, momentum=0.1, affine=True, track_running_stats=True)\n",
              "      (conv2): Conv2d(512, 512, kernel_size=(3, 3), stride=(1, 1), padding=(1, 1), bias=False)\n",
              "      (bn2): BatchNorm2d(512, eps=1e-05, momentum=0.1, affine=True, track_running_stats=True)\n",
              "      (conv3): Conv2d(512, 2048, kernel_size=(1, 1), stride=(1, 1), bias=False)\n",
              "      (bn3): BatchNorm2d(2048, eps=1e-05, momentum=0.1, affine=True, track_running_stats=True)\n",
              "      (relu): ReLU(inplace)\n",
              "    )\n",
              "  )\n",
              "  (avgpool): AdaptiveAvgPool2d(output_size=(1, 1))\n",
              "  (fc): Sequential(\n",
              "    (0): Linear(in_features=2048, out_features=1024, bias=True)\n",
              "    (1): ReLU()\n",
              "    (2): BatchNorm1d(1024, eps=1e-05, momentum=0.1, affine=True, track_running_stats=True)\n",
              "    (3): Dropout(p=0.5)\n",
              "    (4): Linear(in_features=1024, out_features=512, bias=True)\n",
              "    (5): ReLU()\n",
              "    (6): BatchNorm1d(512, eps=1e-05, momentum=0.1, affine=True, track_running_stats=True)\n",
              "    (7): Dropout(p=0.5)\n",
              "    (8): Linear(in_features=512, out_features=10, bias=True)\n",
              "  )\n",
              ")"
            ]
          },
          "metadata": {
            "tags": []
          },
          "execution_count": 15
        }
      ]
    },
    {
      "metadata": {
        "colab_type": "code",
        "id": "_K_975NJIKrk",
        "outputId": "5ecbe299-4381-419a-f276-263c775c8bd9",
        "colab": {
          "base_uri": "https://localhost:8080/",
          "height": 35
        }
      },
      "cell_type": "code",
      "source": [
        "batch_size=32\n",
        "transform = transforms.Compose([transforms.Resize((224,224)) , \n",
        "                               transforms.ToTensor(),\n",
        "                               transforms.Normalize([0.485, 0.456, 0.406], [0.229, 0.224, 0.225])\n",
        "                               ])\n",
        "\n",
        "myDataset = torchvision.datasets.ImageFolder(\"train\" , transform = transform)\n",
        "\n",
        "valid_no  = int(0.2 * len(myDataset))\n",
        "# so divide the data into trainset and testset\n",
        "\n",
        "trainSet,testSet = torch.utils.data.random_split(myDataset,(len(myDataset)-valid_no,valid_no))\n",
        "print(f\"len of trainSet {len(trainSet)} , len of testSet {len(testSet)}\")\n",
        "trainLoader  = DataLoader(trainSet , batch_size=batch_size ,shuffle=True) \n",
        "testLoader  = DataLoader(testSet , batch_size=batch_size ,shuffle=True)\n",
        "data_loader={\"train\":trainLoader , \"val\":testLoader}\n"
      ],
      "execution_count": 16,
      "outputs": [
        {
          "output_type": "stream",
          "text": [
            "len of trainSet 5781 , len of testSet 1445\n"
          ],
          "name": "stdout"
        }
      ]
    },
    {
      "metadata": {
        "id": "wR2i02JdfM5a",
        "colab_type": "code",
        "colab": {}
      },
      "cell_type": "code",
      "source": [
        ""
      ],
      "execution_count": 0,
      "outputs": []
    },
    {
      "metadata": {
        "id": "dA61y40iJVoO",
        "colab_type": "code",
        "colab": {}
      },
      "cell_type": "code",
      "source": [
        ""
      ],
      "execution_count": 0,
      "outputs": []
    },
    {
      "metadata": {
        "colab_type": "code",
        "id": "0j9z2QR8Jgva",
        "outputId": "e089db8f-743b-4b74-8ec0-e509e1690d1b",
        "colab": {
          "base_uri": "https://localhost:8080/",
          "height": 35
        }
      },
      "cell_type": "code",
      "source": [
        "import torch.optim as optim\n",
        "from torch.optim import lr_scheduler\n",
        "\n",
        "device = torch.device(\"cuda\" if torch.cuda.is_available() else \"cpu\")\n",
        "model = model.to(device)\n",
        "\n",
        "# specify loss function (categorical cross-entropy)\n",
        "criterion = nn.CrossEntropyLoss()\n",
        "\n",
        "# specify optimizer\n",
        "optimizer = optim.Adam(model.parameters(), lr=0.01)\n",
        "sgdr_partial = lr_scheduler.CosineAnnealingLR(optimizer, T_max=5, eta_min=0.005 )\n",
        "\n",
        "device"
      ],
      "execution_count": 17,
      "outputs": [
        {
          "output_type": "execute_result",
          "data": {
            "text/plain": [
              "device(type='cuda')"
            ]
          },
          "metadata": {
            "tags": []
          },
          "execution_count": 17
        }
      ]
    },
    {
      "metadata": {
        "colab_type": "code",
        "id": "Uqcq3wJEKAZk",
        "colab": {}
      },
      "cell_type": "code",
      "source": [
        "from tqdm import trange\n",
        "\n",
        "def train(model , data_loader , criterion , optimizer ,scheduler, num_epochs=5):\n",
        "\n",
        "  for epoch in trange(num_epochs,desc=\"Epochs\"):\n",
        "    result = []\n",
        "    for phase in ['train', 'val']:\n",
        "      if phase==\"train\":     # put the model in training mode\n",
        "        model.train()\n",
        "        scheduler.step()\n",
        "      else:     # put the model in validation mode\n",
        "        model.eval()\n",
        "       \n",
        "      # keep track of training and validation loss\n",
        "      running_loss = 0.0\n",
        "      running_corrects = 0.0  \n",
        "      \n",
        "      for data , target in data_loader[phase]:\n",
        "        #load the data and target to respective device\n",
        "        data , target = data.to(device)  , target.to(device)\n",
        "\n",
        "        with torch.set_grad_enabled(phase==\"train\"):\n",
        "          #feed the input\n",
        "          output = model(data)\n",
        "          #calculate the loss\n",
        "          loss = criterion(output,target)\n",
        "          preds = torch.argmax(output,1)\n",
        "\n",
        "          if phase==\"train\"  :\n",
        "            # backward pass: compute gradient of the loss with respect to model parameters \n",
        "            loss.backward()\n",
        "            # update the model parameters\n",
        "            optimizer.step()\n",
        "            # zero the grad to stop it from accumulating\n",
        "            optimizer.zero_grad()\n",
        "\n",
        "\n",
        "        # statistics\n",
        "        running_loss += loss.item() * data.size(0)\n",
        "        running_corrects += torch.sum(preds == target.data).item()\n",
        "        \n",
        "        \n",
        "      epoch_loss = running_loss / len(data_loader[phase].dataset)\n",
        "      epoch_acc = running_corrects / len(data_loader[phase].dataset)\n",
        "\n",
        "      result.append('{} Loss: {:.4f} Acc: {:.4f}'.format(phase, epoch_loss, epoch_acc))\n",
        "    print(result)\n",
        "          \n",
        "        "
      ],
      "execution_count": 0,
      "outputs": []
    },
    {
      "metadata": {
        "colab_type": "code",
        "id": "V6RTxbvIKmT7",
        "outputId": "3d7ea0f2-8dba-4ccc-9631-c3ce0d651b9b",
        "colab": {
          "base_uri": "https://localhost:8080/",
          "height": 125
        }
      },
      "cell_type": "code",
      "source": [
        "train(model,data_loader , criterion, optimizer,sgdr_partial)"
      ],
      "execution_count": 19,
      "outputs": [
        {
          "output_type": "stream",
          "text": [
            "Epochs:  20%|██        | 1/5 [04:25<17:41, 265.29s/it]"
          ],
          "name": "stderr"
        },
        {
          "output_type": "stream",
          "text": [
            "['train Loss: 0.5904 Acc: 0.8327', 'val Loss: 0.4445 Acc: 0.8782']\n"
          ],
          "name": "stdout"
        },
        {
          "output_type": "stream",
          "text": [
            "\rEpochs:  40%|████      | 2/5 [08:52<13:17, 265.75s/it]"
          ],
          "name": "stderr"
        },
        {
          "output_type": "stream",
          "text": [
            "['train Loss: 0.4433 Acc: 0.8732', 'val Loss: 0.3965 Acc: 0.8927']\n"
          ],
          "name": "stdout"
        },
        {
          "output_type": "stream",
          "text": [
            "\rEpochs:  60%|██████    | 3/5 [13:19<08:52, 266.21s/it]"
          ],
          "name": "stderr"
        },
        {
          "output_type": "stream",
          "text": [
            "['train Loss: 0.3820 Acc: 0.8865', 'val Loss: 0.3847 Acc: 0.8934']\n"
          ],
          "name": "stdout"
        },
        {
          "output_type": "stream",
          "text": [
            "\rEpochs:  80%|████████  | 4/5 [17:43<04:25, 265.70s/it]"
          ],
          "name": "stderr"
        },
        {
          "output_type": "stream",
          "text": [
            "['train Loss: 0.3307 Acc: 0.8979', 'val Loss: 0.3174 Acc: 0.9135']\n"
          ],
          "name": "stdout"
        },
        {
          "output_type": "stream",
          "text": [
            "\rEpochs: 100%|██████████| 5/5 [22:10<00:00, 266.04s/it]"
          ],
          "name": "stderr"
        },
        {
          "output_type": "stream",
          "text": [
            "['train Loss: 0.2834 Acc: 0.9097', 'val Loss: 0.3389 Acc: 0.9073']\n"
          ],
          "name": "stdout"
        },
        {
          "output_type": "stream",
          "text": [
            "\n"
          ],
          "name": "stderr"
        }
      ]
    },
    {
      "metadata": {
        "colab_type": "code",
        "id": "lTHBhLIfLGMX",
        "outputId": "eb8b57fc-8b16-46f4-a3c3-73d038b4867d",
        "colab": {
          "base_uri": "https://localhost:8080/",
          "height": 179
        }
      },
      "cell_type": "code",
      "source": [
        "optimizer"
      ],
      "execution_count": 20,
      "outputs": [
        {
          "output_type": "execute_result",
          "data": {
            "text/plain": [
              "Adam (\n",
              "Parameter Group 0\n",
              "    amsgrad: False\n",
              "    betas: (0.9, 0.999)\n",
              "    eps: 1e-08\n",
              "    initial_lr: 0.01\n",
              "    lr: 0.005477457514062632\n",
              "    weight_decay: 0\n",
              ")"
            ]
          },
          "metadata": {
            "tags": []
          },
          "execution_count": 20
        }
      ]
    },
    {
      "metadata": {
        "colab_type": "text",
        "id": "Rek9McDgUw67"
      },
      "cell_type": "markdown",
      "source": [
        "# Per Class Accuracy"
      ]
    },
    {
      "metadata": {
        "colab_type": "code",
        "id": "_9MthSe-aQ1g",
        "outputId": "296360f8-707f-4f90-fa4b-7bafb88bf42e",
        "colab": {
          "base_uri": "https://localhost:8080/",
          "height": 215
        }
      },
      "cell_type": "code",
      "source": [
        "\n",
        "def perClassAccuracy(model ,classes):\n",
        "  class_correct = np.zeros(len(classes) ,dtype =np.int64 )\n",
        "  class_total = np.zeros_like(class_correct,dtype =np.int64 )\n",
        "  model.eval()\n",
        "  \n",
        "  for data ,target in data_loader[\"val\"]:\n",
        "    data,target =data.to(device) , target.to(device)\n",
        "    with torch.set_grad_enabled(False):\n",
        "      output =model(data)\n",
        "      preds = torch.argmax(output,1)\n",
        "      for prediction , label in zip(preds , target.data):\n",
        "        if prediction == label:\n",
        "          class_correct[prediction]+=1\n",
        "        class_total[label]+=1\n",
        "  per = np.round((100*class_correct/class_total) ,4)\n",
        "  out = \"\\n\".join([f\"{name} :- {acc} %\" for name ,acc in zip(classes , per)])\n",
        "  return out+\"\\ntotal acc is {0}%\".format(100* sum(class_correct)/sum(class_total))\n",
        "\n",
        "print(perClassAccuracy(model , myDataset.classes))\n",
        "\n"
      ],
      "execution_count": 21,
      "outputs": [
        {
          "output_type": "stream",
          "text": [
            "cat :- 94.4444 %\n",
            "deer :- 93.985 %\n",
            "dog :- 97.3856 %\n",
            "elephant :- 94.0789 %\n",
            "fox :- 81.6176 %\n",
            "leopard :- 87.4214 %\n",
            "lion :- 92.0863 %\n",
            "monkey :- 92.4051 %\n",
            "tiger :- 94.702 %\n",
            "wolf :- 75.8333 %\n",
            "total acc is 90.72664359861592%\n"
          ],
          "name": "stdout"
        }
      ]
    },
    {
      "metadata": {
        "colab_type": "text",
        "id": "m9bkTpFRVupg"
      },
      "cell_type": "markdown",
      "source": [
        "# Visualizing the wrong prediction and where exactly model is confused Basically confusion matrix but I don't know how to do that so my new approach"
      ]
    },
    {
      "metadata": {
        "colab_type": "code",
        "id": "8Ym8fH7OSaD8",
        "colab": {}
      },
      "cell_type": "code",
      "source": [
        "def allwrong_prediction(classes ,model):\n",
        "  test_array =[]\n",
        "  model.eval()\n",
        "  for data ,target in data_loader[\"val\"]:\n",
        "    data,target =data.to(device) , target.to(device)\n",
        "    with torch.set_grad_enabled(False):\n",
        "      output =model(data)\n",
        "      preds = torch.argmax(output,1)\n",
        "      for prediction , label in zip(preds , target.data):\n",
        "        if prediction != label:\n",
        "            test_array.append([data ,classes[prediction] ,classes[label]])\n",
        "  return test_array\n",
        "\n",
        "s = allwrong_prediction(myDataset.classes , model)\n"
      ],
      "execution_count": 0,
      "outputs": []
    },
    {
      "metadata": {
        "colab_type": "text",
        "id": "eTnKpR4KaCZV"
      },
      "cell_type": "markdown",
      "source": [
        "### Checking what and all wrong predictions model is making  by visualizing this graph it's very clear model is confused peacock"
      ]
    },
    {
      "metadata": {
        "colab_type": "code",
        "id": "l2Ssz5wJYLKW",
        "outputId": "041befc0-0699-4007-f808-8ff3e6cbfd1b",
        "colab": {
          "base_uri": "https://localhost:8080/",
          "height": 652
        }
      },
      "cell_type": "code",
      "source": [
        "import pandas as pd\n",
        "s_d = [(y,z) for x ,y,z in s]\n",
        "df = pd.DataFrame(s_d)\n",
        "gr = df.groupby([0,1])\n",
        "gr.apply(len).unstack().plot(kind='bar', stacked=True, figsize=(20,10))\n"
      ],
      "execution_count": 24,
      "outputs": [
        {
          "output_type": "execute_result",
          "data": {
            "text/plain": [
              "<matplotlib.axes._subplots.AxesSubplot at 0x7fbb548c46a0>"
            ]
          },
          "metadata": {
            "tags": []
          },
          "execution_count": 24
        },
        {
          "output_type": "display_data",
          "data": {
            "image/png": "[encoded data removed]",
            "text/plain": [
              "<Figure size 1440x720 with 1 Axes>"
            ]
          },
          "metadata": {
            "tags": []
          }
        }
      ]
    },
    {
      "metadata": {
        "colab_type": "text",
        "id": "2mCel_rMafqQ"
      },
      "cell_type": "markdown",
      "source": [
        "# Saving the Model\n",
        "\n"
      ]
    },
    {
      "metadata": {
        "colab_type": "text",
        "id": "NRkacNVIaf0d"
      },
      "cell_type": "markdown",
      "source": [
        "When it comes to saving and loading models, there are three core functions to be familiar with:\n",
        "\n",
        "    1. torch.save: Saves a serialized object to disk. This function uses Python’s pickle utility for serialization. Models, tensors, and dictionaries of all kinds of objects can be saved using this function.\n",
        "    \n",
        "    2. torch.load: Uses pickle’s unpickling facilities to deserialize pickled object files to memory. This function also facilitates the device to load the data into (see Saving & Loading Model Across Devices).\n",
        "    \n",
        "    3. torch.nn.Module.load_state_dict: Loads a model’s parameter dictionary using a deserialized state_dict. For more information on state_dict, see What is a state_dict?.\n",
        "\n",
        "There are many ways to save the model but we are gonna see the most recommended and safe here we are going to save the model parameters and while loading just load the weights\n",
        "\n",
        "### Saving & Loading a General Checkpoint for Inference and/or Resuming Training"
      ]
    },
    {
      "metadata": {
        "colab_type": "code",
        "id": "uvwZHbbHafxz",
        "colab": {}
      },
      "cell_type": "code",
      "source": [
        "# Save:\n",
        "def createCheckpoint(filename=Path(\"./LatestCheckpoint.pt\")):\n",
        "  checkpoint = {\n",
        "              'epoch': 5,\n",
        "              'model_state_dict': model.state_dict(),\n",
        "              'optimizer_state_dict': optimizer.state_dict(),\n",
        "              \"batch_size\":batch_size,\n",
        "  } # save all important stuff\n",
        "  torch.save(checkpoint , filename)\n",
        "createCheckpoint()\n"
      ],
      "execution_count": 0,
      "outputs": []
    },
    {
      "metadata": {
        "colab_type": "code",
        "id": "Phl_6nIuafuv",
        "outputId": "8f829507-8fd6-4704-92f6-aaf2ec838a82",
        "colab": {
          "base_uri": "https://localhost:8080/",
          "height": 179
        }
      },
      "cell_type": "code",
      "source": [
        "# Load\n",
        "'''\n",
        "First Intialize the model and then just load it\n",
        "model = TheModelClass(*args, **kwargs)\n",
        "optimizer = TheOptimizerClass(*args, **kwargs)\n",
        "\n",
        "'''\n",
        "\n",
        "checkpoint = torch.load(Path(\"./LatestCheckpoint.pt\"))\n",
        "model.load_state_dict(checkpoint['model_state_dict'])\n",
        "optimizer.load_state_dict(checkpoint['optimizer_state_dict'])\n",
        "epoch = checkpoint['epoch']\n",
        "batch_size = checkpoint['batch_size']\n",
        "\n",
        "model.eval() ## or model.train()\n",
        "optimizer"
      ],
      "execution_count": 26,
      "outputs": [
        {
          "output_type": "execute_result",
          "data": {
            "text/plain": [
              "Adam (\n",
              "Parameter Group 0\n",
              "    amsgrad: False\n",
              "    betas: (0.9, 0.999)\n",
              "    eps: 1e-08\n",
              "    initial_lr: 0.01\n",
              "    lr: 0.005477457514062632\n",
              "    weight_decay: 0\n",
              ")"
            ]
          },
          "metadata": {
            "tags": []
          },
          "execution_count": 26
        }
      ]
    },
    {
      "metadata": {
        "colab_type": "text",
        "id": "1lVSjAQ3afm7"
      },
      "cell_type": "markdown",
      "source": [
        "When saving a general checkpoint, to be used for either inference or resuming training, you must save more than just the model’s state_dict. It is important to also save the optimizer’s state_dict, as this contains buffers and parameters that are updated as the model trains. Other items that you may want to save are the epoch you left off on, the latest recorded training loss, external torch.nn.Embedding layers, etc.\n",
        "\n",
        "To save multiple components, organize them in a dictionary and use torch.save() to serialize the dictionary. A common PyTorch convention is to save these checkpoints using the .tar file extension.\n",
        "\n",
        "To load the items, first initialize the model and optimizer, then load the dictionary locally using torch.load(). From here, you can easily access the saved items by simply querying the dictionary as you would expect.\n",
        "\n",
        "Remember that you must call model.eval() to set dropout and batch normalization layers to evaluation mode before running inference. Failing to do this will yield inconsistent inference results. If you wish to resuming training, call model.train() to ensure these layers are in training mode."
      ]
    },
    {
      "metadata": {
        "colab_type": "code",
        "id": "I8-D7AYHCP0m",
        "outputId": "a0ff6378-166f-4f5e-fde0-0ce02a14ee03",
        "colab": {
          "base_uri": "https://localhost:8080/",
          "height": 127
        }
      },
      "cell_type": "code",
      "source": [
        "# save the checkpoint to gdrive\n",
        "from google.colab import drive\n",
        "drive.mount('/content/gdrive')\n",
        "!cp LatestCheckpoint.pt ./gdrive/My\\ Drive/\n",
        "#!cp  ./gdrive/My\\ Drive/LatestCheckpoint.pt ."
      ],
      "execution_count": 27,
      "outputs": [
        {
          "output_type": "stream",
          "text": [
            "Go to this URL in a browser: https://accounts.google.com/o/oauth2/auth?client_id=947318989803-6bn6qk8qdgf4n4g3pfee6491hc0brc4i.apps.googleusercontent.com&redirect_uri=urn%3Aietf%3Awg%3Aoauth%3A2.0%3Aoob&scope=email%20https%3A%2F%2Fwww.googleapis.com%2Fauth%2Fdocs.test%20https%3A%2F%2Fwww.googleapis.com%2Fauth%2Fdrive%20https%3A%2F%2Fwww.googleapis.com%2Fauth%2Fdrive.photos.readonly%20https%3A%2F%2Fwww.googleapis.com%2Fauth%2Fpeopleapi.readonly&response_type=code\n",
            "\n",
            "Enter your authorization code:\n",
            "··········\n",
            "Mounted at /content/gdrive\n"
          ],
          "name": "stdout"
        }
      ]
    },
    {
      "metadata": {
        "colab_type": "text",
        "id": "HIAOsFZWJQy0"
      },
      "cell_type": "markdown",
      "source": [
        "# LrFinder and One Cycle Policy\n",
        "\n",
        "### Now that our model is giving 88.68 % accuracy let's finetune the model\n",
        "So we train the model in two steps\n",
        "1. First we unfreeze half of the network and use lr finder algo to find optimum lr and then use once cycle policy to train\n",
        "2. unfreeze the entire network and then use lr finder algo to find optimum lr and then use once cycle policy to train.\n",
        "\n",
        "## Let's see how much better we can do with model"
      ]
    },
    {
      "metadata": {
        "colab_type": "code",
        "id": "wfoFtmRYW2I-",
        "colab": {}
      },
      "cell_type": "code",
      "source": [
        "def unfreeze(model,percent=0.25):\n",
        "  l = int(np.ceil(len(model._modules.keys())* percent))\n",
        "  l = list(model._modules.keys())[-l:]\n",
        "  print(f\"unfreezing these layer {l}\",)\n",
        "  for name in l:\n",
        "    for params in model._modules[name].parameters():\n",
        "      params.requires_grad_(True)\n",
        "\n",
        "def check_freeze(model):\n",
        "  for name ,layer in model._modules.items():\n",
        "    s = []\n",
        "    for l in layer.parameters():\n",
        "      s.append(l.requires_grad)\n",
        "    print(name ,all(s))\n"
      ],
      "execution_count": 0,
      "outputs": []
    },
    {
      "metadata": {
        "colab_type": "code",
        "id": "fFy3uWjM6FI8",
        "outputId": "7b731aad-63f4-45d9-ae64-03dcf9441c1b",
        "colab": {
          "base_uri": "https://localhost:8080/",
          "height": 215
        }
      },
      "cell_type": "code",
      "source": [
        "# unfreeze half of the model\n",
        "unfreeze(model ,0.20)\n",
        "# check which layer is freezed or not\n",
        "check_freeze(model)"
      ],
      "execution_count": 29,
      "outputs": [
        {
          "output_type": "stream",
          "text": [
            "unfreezing these layer ['layer4', 'avgpool', 'fc']\n",
            "conv1 False\n",
            "bn1 False\n",
            "relu True\n",
            "maxpool True\n",
            "layer1 False\n",
            "layer2 False\n",
            "layer3 False\n",
            "layer4 True\n",
            "avgpool True\n",
            "fc True\n"
          ],
          "name": "stdout"
        }
      ]
    },
    {
      "metadata": {
        "colab_type": "text",
        "id": "ks3h5IupjSRp"
      },
      "cell_type": "markdown",
      "source": [
        "## Learning Rate Finder\n",
        " Basically in simple terms learning rate finder starts the lr from base lr which is usally a small value , eventually increasing lr using some anneal function.\n",
        " \n",
        " Different type of anneal functions are \n",
        " 1. Linear\n",
        " 2. Exponential\n",
        " 3. Cosine\n",
        " \n",
        "For example :- suppose base lr is 0.001 and max lr is 5 and no of iteration is 20 \n",
        " $$\n",
        " no\\ of\\ iteration = \\frac{training\\ data}{batch\\ size}\n",
        " $$\n",
        " \n",
        " Then basically annneal function helps the lr to go from base lr to max lr in steps and thus generating a loss graph which after visualizing we have to pick the lr from the graph where loss just start decreasing.\n",
        " \n",
        " we in this notebook will implement Linear and exponential annealing function."
      ]
    },
    {
      "metadata": {
        "colab_type": "code",
        "id": "_eHHQnTzxe_D",
        "colab": {}
      },
      "cell_type": "code",
      "source": [
        "class LinearScheduler(lr_scheduler._LRScheduler):\n",
        "    \"\"\"Linearly increases the learning rate between two boundaries over a number of iterations.\"\"\"\n",
        "    def __init__(self, optimizer, end_lr, num_iter):\n",
        "        self.end_lr = end_lr\n",
        "        self.num_iter = num_iter\n",
        "        super(LinearScheduler,self).__init__(optimizer)\n",
        "\n",
        "    def get_lr(self):\n",
        "        # increement one by one\n",
        "        curr_iter = self.last_epoch + 1\n",
        "        # get the ratio\n",
        "        pct = curr_iter / self.num_iter\n",
        "        # calculate lr with this formulae start + pct * (end-start)\n",
        "        return [base_lr + pct * (self.end_lr - base_lr) for base_lr in self.base_lrs]\n",
        "\n",
        "\n",
        "class ExponentialScheduler(lr_scheduler._LRScheduler):\n",
        "    \"\"\"Exponentially increases the learning rate between two boundaries over a number of iterations.\"\"\"\n",
        "\n",
        "    def __init__(self, optimizer, end_lr, num_iter, last_epoch=-1):\n",
        "        self.end_lr = end_lr\n",
        "        self.num_iter = num_iter\n",
        "        super(ExponentialScheduler,self).__init__(optimizer)\n",
        "\n",
        "    def get_lr(self):\n",
        "        curr_iter = self.last_epoch + 1\n",
        "        pct = curr_iter / self.num_iter\n",
        "        return [base_lr * (self.end_lr / base_lr) ** pct for base_lr in self.base_lrs]\n",
        "      \n",
        "class CosineScheduler(lr_scheduler._LRScheduler):\n",
        "    \"\"\"Cosine increases the learning rate between two boundaries over a number of iterations.\"\"\"\n",
        "\n",
        "    def __init__(self, optimizer, end_lr, num_iter, last_epoch=-1):\n",
        "        self.end_lr = end_lr\n",
        "        self.num_iter = num_iter\n",
        "        super(CosineScheduler,self).__init__(optimizer)\n",
        "\n",
        "    def get_lr(self):\n",
        "        curr_iter = self.last_epoch + 1\n",
        "        pct = curr_iter / self.num_iter\n",
        "        cos_out = np.cos(np.pi * pct) + 1\n",
        "        return [self.end_lr + (base_lr - self.end_lr )/2 *cos_out for base_lr in self.base_lrs]"
      ],
      "execution_count": 0,
      "outputs": []
    },
    {
      "metadata": {
        "colab_type": "code",
        "id": "BQwBWKs0CaRm",
        "colab": {}
      },
      "cell_type": "code",
      "source": [
        "class LRFinder:\n",
        "  \n",
        "  def __init__(self, model  , optimizer , criterion ,start_lr=1e-7, device=None):\n",
        "    \n",
        "    self.model = model\n",
        "    # Move the model to the proper device\n",
        "    self.optimizer = optimizer\n",
        "    self.criterion = criterion\n",
        "    \n",
        "    ## save the model intial dict\n",
        "    self.save_file = Path(\"tmpfile\")\n",
        "    torch.save(self.model , self.save_file)    \n",
        "    if device is None:\n",
        "      self.device = next(model.parameters()).device\n",
        "    else:\n",
        "      self.device = device\n",
        "    self.model.to(self.device)\n",
        "    \n",
        "    self.history = {\"lr\":[] , \"losses\":[]}\n",
        "    for l in self.optimizer.param_groups:\n",
        "      l[\"initial_lr\"]=start_lr\n",
        "    \n",
        "    \n",
        "  def reset(self):\n",
        "    \"\"\" Resets the model to intial state \"\"\"\n",
        "    self.model = torch.load(self.save_file)\n",
        "    self.model.train()\n",
        "    self.save_file.unlink()\n",
        "    return self.model\n",
        "    \n",
        "  def calculateSmmothingValue(self ,beta):\n",
        "    n ,mov_avg=0,0\n",
        "    while True :\n",
        "      n+=1\n",
        "      value = yield\n",
        "      mov_avg = beta*mov_avg +(1-beta)*value\n",
        "      smooth = mov_avg / (1 - beta **n )\n",
        "      yield smooth\n",
        "    \n",
        "  def lrfind(self, trainLoader,end_lr=10,num_iter=150,step_mode=\"exp\", loss_smoothing_beta=0.99, diverge_th=5): \n",
        "        \"\"\"\n",
        "         Performs the lrfind test\n",
        "\n",
        "         Arguments:\n",
        "            trainLoader : The data loader\n",
        "            end_lr :  The maximum lr\n",
        "            num_iter : Max iteratiom\n",
        "            step_mode : The anneal function by default `exp` but can be either `linear` or `cos`\n",
        "            smooth_f : The loss smoothing factor, value should be between [0 , 1[\n",
        "            diverge_th: The max loss value after which training should be stooped\n",
        "        \"\"\"\n",
        "              # Reset test results\n",
        "        self.history = {\"lr\": [], \"losses\": []}\n",
        "        self.best_loss = None\n",
        "        self.smoothner = self.calculateSmmothingValue(loss_smoothing_beta)\n",
        "        \n",
        "        if step_mode.lower()==\"exp\":\n",
        "          lr_schedule = ExponentialScheduler(self.optimizer , end_lr  , num_iter,)\n",
        "        elif step_mode.lower()==\"cos\":\n",
        "          lr_schedule = CosineScheduler(self.optimizer , end_lr  , num_iter)\n",
        "        elif step.mode.lower()==\"linear\":\n",
        "          lr_schedule = LinearScheduler(self.optimizer , end_lr  , num_iter)\n",
        "        else:\n",
        "          raise ValueError(f\"expected mode is either {exp , cos ,linear} got {step_mode}\")\n",
        "        \n",
        "        if 0 < loss_smoothing_beta >=1:\n",
        "          raise ValueError(\"smooth_f is outside the range [0, 1[\")\n",
        "        \n",
        "        iterator = iter(trainLoader)\n",
        "        for each_iter in range(num_iter):\n",
        "          try:\n",
        "            data , target = next(iterator)\n",
        "          except StopIteration:\n",
        "            iterator = iter(trainLoader)\n",
        "            data , target = next(iterator)\n",
        "         \n",
        "          loss = self._train_batch(data , target)\n",
        "          \n",
        "          # Update the learning rate\n",
        "          lr_schedule.step()\n",
        "          self.history[\"lr\"].append(lr_schedule.get_lr()[0])\n",
        "          # Track the best loss and smooth it if smooth_f is specified\n",
        "          if each_iter == 0:\n",
        "              self.best_loss = loss\n",
        "          else:\n",
        "              next(self.smoothner)\n",
        "              self.best_loss = self.smoothner.send(loss)\n",
        "              if loss < self.best_loss:\n",
        "                  self.best_loss = loss\n",
        "\n",
        "          # Check if the loss has diverged; if it has, stop the test\n",
        "          self.history[\"losses\"].append(loss)\n",
        "          if loss > diverge_th * self.best_loss:\n",
        "              print(\"Stopping early, the loss has diverged\")\n",
        "              break\n",
        "\n",
        "        print(\"Learning rate search finished. See the graph with {finder_name}.plot()\")            \n",
        "  \n",
        "  def _train_batch(self,data,target):\n",
        "    # set to training mode\n",
        "    self.model.train()\n",
        "    #load data to device\n",
        "    data ,target = data.to(self.device) ,target.to(self.device)\n",
        "    \n",
        "    #forward pass\n",
        "    self.optimizer.zero_grad()\n",
        "    output = self.model(data)\n",
        "    loss = self.criterion(output,target)\n",
        "    \n",
        "    #backward pass\n",
        "    loss.backward()\n",
        "    self.optimizer.step()\n",
        "    return loss.item()\n",
        "  \n",
        "  def plot(self):\n",
        "    losses = self.history[\"losses\"]\n",
        "    lr = self.history[\"lr\"]\n",
        "    plt.semilogx(lr,losses)\n",
        "    plt.xlabel(\"Learning rate\")\n",
        "    plt.ylabel(\"Losses \")\n",
        "    "
      ],
      "execution_count": 0,
      "outputs": []
    },
    {
      "metadata": {
        "colab_type": "code",
        "id": "2XJPqcmzgTNM",
        "colab": {
          "base_uri": "https://localhost:8080/",
          "height": 53
        },
        "outputId": "6d1ace42-ce14-4dc2-ed51-423903a277dc"
      },
      "cell_type": "code",
      "source": [
        "lr_finder = LRFinder(model, optimizer, criterion, device=device)\n",
        "lr_finder.lrfind(data_loader[\"train\"], end_lr=10, step_mode=\"exp\")"
      ],
      "execution_count": 32,
      "outputs": [
        {
          "output_type": "stream",
          "text": [
            "Stopping early, the loss has diverged\n",
            "Learning rate search finished. See the graph with {finder_name}.plot()\n"
          ],
          "name": "stdout"
        }
      ]
    },
    {
      "metadata": {
        "colab_type": "code",
        "id": "ooVHCEJUgwIn",
        "colab": {
          "base_uri": "https://localhost:8080/",
          "height": 365
        },
        "outputId": "e887696d-ccd6-43e1-e691-416c051128b4"
      },
      "cell_type": "code",
      "source": [
        "lr_finder.plot()"
      ],
      "execution_count": 33,
      "outputs": [
        {
          "output_type": "display_data",
          "data": {
            "image/png": "[encoded data removed]",
            "text/plain": [
              "<Figure size 576x396 with 1 Axes>"
            ]
          },
          "metadata": {
            "tags": []
          }
        }
      ]
    },
    {
      "metadata": {
        "colab_type": "code",
        "id": "kfGe5SJlgwQ8",
        "colab": {}
      },
      "cell_type": "code",
      "source": [
        "model= lr_finder.reset()"
      ],
      "execution_count": 0,
      "outputs": []
    },
    {
      "metadata": {
        "colab_type": "text",
        "id": "N_5ZVA93CpVv"
      },
      "cell_type": "markdown",
      "source": [
        "## [One Cycle Policy](https://sgugger.github.io/the-1cycle-policy.html)\n",
        "one cycle policy is a technique in which the training process in divided into two section in first half the momentum is decreased and lr is increased and in other section we do the vice- versa\n",
        "\n",
        "While using Adam we use beta1 property as momentum\n",
        "\n",
        "But still there is this big question why one cycle policy .\n",
        "1. This techniques helps model to converge faster.\n",
        "2. Helps to take the model out of saddle point\n",
        "3. Helps to stablilize the model by taking it out from local minima or sharp global minima instead getting the model into more flat surface on that curve.\n",
        "\n",
        "![](https://sgugger.github.io/images/art5_full_schedule.png)\n",
        "\n",
        "This times let's see another approach of modifying lr and momentum"
      ]
    },
    {
      "metadata": {
        "colab_type": "code",
        "id": "Qgar8cBUBYJN",
        "colab": {}
      },
      "cell_type": "code",
      "source": [
        "class Stepper():\n",
        "    \"Used to \\\"step\\\" from start,end (`vals`) over `n_iter` iterations on a schedule defined by `func`\"\n",
        "    \n",
        "    def __init__(self, val, n_iter:int, func):\n",
        "        self.start,self.end = val\n",
        "        self.n_iter = max(1,n_iter)\n",
        "        self.func = func\n",
        "        self.n = 0\n",
        "\n",
        "    def step(self):\n",
        "        \"Return next value along annealed schedule.\"\n",
        "        self.n += 1\n",
        "        return self.func(self.start, self.end, self.n/self.n_iter)\n",
        "\n",
        "    @property\n",
        "    def is_done(self):\n",
        "        \"Return `True` if schedule completed.\"\n",
        "        return self.n >= self.n_iter\n",
        "    \n",
        "# Annealing functions\n",
        "def annealing_no(start, end, pct):\n",
        "    \"No annealing, always return `start`.\"\n",
        "    return start\n",
        "  \n",
        "def annealing_linear(start, end, pct):\n",
        "    \"Linearly anneal from `start` to `end` as pct goes from 0.0 to 1.0.\"\n",
        "    return start + pct * (end-start)\n",
        "  \n",
        "def annealing_exp(start, end, pct):\n",
        "    \"Exponentially anneal from `start` to `end` as pct goes from 0.0 to 1.0.\"\n",
        "    return start * (end/start) ** pct\n",
        "\n",
        "def annealing_cos(start, end, pct):\n",
        "    \"Cosine anneal from `start` to `end` as pct goes from 0.0 to 1.0.\"\n",
        "    cos_out = np.cos(np.pi * pct) + 1\n",
        "    return end + (start-end)/2 * cos_out"
      ],
      "execution_count": 0,
      "outputs": []
    },
    {
      "metadata": {
        "colab_type": "code",
        "id": "lAgyAWG07XpO",
        "colab": {}
      },
      "cell_type": "code",
      "source": [
        "\n",
        "class OneCyclePolicy:\n",
        "  \n",
        "  def __init__(self,model , optimizer , criterion ,num_iteration,num_epochs,max_lr, momentum = (0.95,0.85) , div_factor=25 , pct_start=0.4, device=None ):\n",
        "    \n",
        "    self.model =model\n",
        "    self.optimizer = optimizer\n",
        "    self.criterion = criterion\n",
        "    self.num_epochs = num_epochs\n",
        "    if device is None:\n",
        "      self.device = next(model.parameters()).device\n",
        "    else:\n",
        "      self.device = device\n",
        "      \n",
        "    n = num_iteration * self.num_epochs\n",
        "    a1 = int(n*pct_start)\n",
        "    a2 = n-a1\n",
        "    self.phases = ((a1 , annealing_linear) , (a2 , annealing_cos))\n",
        "    min_lr = max_lr/div_factor\n",
        "    self.lr_scheds = self.steps((min_lr,max_lr) , (max_lr,min_lr/1e4))\n",
        "    self.mom_scheds =self.steps(momentum , momentum[::-1])\n",
        "    self.idx_s = 0\n",
        "    self.update_lr_mom(self.lr_scheds[0].start,self.mom_scheds[0].start)\n",
        "  \n",
        "  def steps(self, *steps):\n",
        "      \"Build anneal schedule for all of the parameters.\"\n",
        "      return [Stepper(step, n_iter, func=func)for (step,(n_iter,func)) in zip(steps, self.phases)]\n",
        "\n",
        "  def train(self, trainLoader , validLoader ):\n",
        "    self.model.to(self.device)\n",
        "    data_loader = {\"train\":trainLoader , \"val\":validLoader}\n",
        "    for epoch in tqdm(range(self.num_epochs),desc=\"Epochs\"):\n",
        "      result = []\n",
        "      for phase in ['train', 'val']:\n",
        "        if phase==\"train\":     # put the model in training mode\n",
        "          model.train()\n",
        "        else:     # put the model in validation mode\n",
        "          model.eval()\n",
        "\n",
        "        # keep track of training and validation loss\n",
        "        running_loss = 0.0\n",
        "        running_corrects = 0  \n",
        "\n",
        "        for data , target in data_loader[phase]:\n",
        "          #load the data and target to respective device\n",
        "          data , target = data.to(device)  , target.to(device)\n",
        "\n",
        "          with torch.set_grad_enabled(phase==\"train\"):\n",
        "            #feed the input\n",
        "            output = self.model(data)\n",
        "            #calculate the loss\n",
        "            loss = self.criterion(output,target)\n",
        "            preds = torch.argmax(output,1)\n",
        "\n",
        "            if phase==\"train\"  :\n",
        "              # backward pass: compute gradient of the loss with respect to model parameters \n",
        "              loss.backward()\n",
        "              # update the model parameters\n",
        "              self.optimizer.step()\n",
        "              # zero the grad to stop it from accumulating\n",
        "              self.optimizer.zero_grad()\n",
        "            \n",
        "              self.update_lr_mom(self.lr_scheds[self.idx_s].step() ,self.mom_scheds[self.idx_s].step() )\n",
        "\n",
        "              if self.lr_scheds[self.idx_s].is_done:\n",
        "                self.idx_s += 1\n",
        "          \n",
        "          # statistics\n",
        "          running_loss += loss.item() * data.size(0)\n",
        "          running_corrects += torch.sum(preds == target.data).item()\n",
        "\n",
        "\n",
        "        epoch_loss = running_loss / len(data_loader[phase].dataset)\n",
        "        epoch_acc = running_corrects/ len(data_loader[phase].dataset)\n",
        "\n",
        "        result.append('{} Loss: {:.4f} Acc: {:.4f}'.format(phase, epoch_loss, epoch_acc))\n",
        "      print(result)\n",
        "\n",
        "  def update_lr_mom(self,lr=0.001,mom=0.99):\n",
        "    for l in self.optimizer.param_groups:\n",
        "      l[\"lr\"]=lr\n",
        "      if isinstance(self.optimizer , ( torch.optim.Adamax,torch.optim.Adam)):\n",
        "          l[\"betas\"] = ( mom, 0.999)\n",
        "      elif isinstance(self.optimizer, torch.optim.SGD):\n",
        "          l[\"momentum\"] =mom\n"
      ],
      "execution_count": 0,
      "outputs": []
    },
    {
      "metadata": {
        "id": "eg1skyubgp7m",
        "colab_type": "code",
        "colab": {
          "base_uri": "https://localhost:8080/",
          "height": 35
        },
        "outputId": "05c0148b-41ac-4e9b-e083-a41dc3307d18"
      },
      "cell_type": "code",
      "source": [
        "len(trainLoader)"
      ],
      "execution_count": 38,
      "outputs": [
        {
          "output_type": "execute_result",
          "data": {
            "text/plain": [
              "181"
            ]
          },
          "metadata": {
            "tags": []
          },
          "execution_count": 38
        }
      ]
    },
    {
      "metadata": {
        "colab_type": "code",
        "id": "xoIHaT8t7YDh",
        "colab": {
          "base_uri": "https://localhost:8080/",
          "height": 341
        },
        "outputId": "1efd0540-bdfc-4590-b8b4-a335763ab6fd"
      },
      "cell_type": "code",
      "source": [
        "fit_one_cycle = OneCyclePolicy(model ,optimizer , criterion,num_iteration=len(trainLoader)  , num_epochs =12 , max_lr =1e-4 ,device=device)\n",
        "fit_one_cycle.train(trainLoader,testLoader)"
      ],
      "execution_count": 39,
      "outputs": [
        {
          "output_type": "stream",
          "text": [
            "\n",
            "Epochs:   0%|          | 0/8 [00:00<?, ?it/s]\u001b[A\n",
            "Epochs:  12%|█▎        | 1/8 [04:37<32:24, 277.77s/it]\u001b[A"
          ],
          "name": "stderr"
        },
        {
          "output_type": "stream",
          "text": [
            "['train Loss: 0.2475 Acc: 0.9246', 'val Loss: 0.3317 Acc: 0.9100']\n"
          ],
          "name": "stdout"
        },
        {
          "output_type": "stream",
          "text": [
            "\n",
            "Epochs:  25%|██▌       | 2/8 [09:17<27:49, 278.22s/it]\u001b[A"
          ],
          "name": "stderr"
        },
        {
          "output_type": "stream",
          "text": [
            "['train Loss: 0.2447 Acc: 0.9216', 'val Loss: 0.4021 Acc: 0.9073']\n"
          ],
          "name": "stdout"
        },
        {
          "output_type": "stream",
          "text": [
            "\n",
            "Epochs:  38%|███▊      | 3/8 [13:57<23:14, 278.85s/it]\u001b[A"
          ],
          "name": "stderr"
        },
        {
          "output_type": "stream",
          "text": [
            "['train Loss: 0.2479 Acc: 0.9216', 'val Loss: 0.3110 Acc: 0.9093']\n"
          ],
          "name": "stdout"
        },
        {
          "output_type": "stream",
          "text": [
            "\n",
            "Epochs:  50%|█████     | 4/8 [18:37<18:36, 279.19s/it]\u001b[A"
          ],
          "name": "stderr"
        },
        {
          "output_type": "stream",
          "text": [
            "['train Loss: 0.2518 Acc: 0.9280', 'val Loss: 0.3662 Acc: 0.9121']\n"
          ],
          "name": "stdout"
        },
        {
          "output_type": "stream",
          "text": [
            "\n",
            "Epochs:  62%|██████▎   | 5/8 [23:17<13:58, 279.55s/it]\u001b[A"
          ],
          "name": "stderr"
        },
        {
          "output_type": "stream",
          "text": [
            "['train Loss: 0.2501 Acc: 0.9248', 'val Loss: 0.4209 Acc: 0.9114']\n"
          ],
          "name": "stdout"
        },
        {
          "output_type": "stream",
          "text": [
            "\n",
            "Epochs:  75%|███████▌  | 6/8 [27:59<09:20, 280.09s/it]\u001b[A"
          ],
          "name": "stderr"
        },
        {
          "output_type": "stream",
          "text": [
            "['train Loss: 0.2379 Acc: 0.9263', 'val Loss: 0.4174 Acc: 0.9073']\n"
          ],
          "name": "stdout"
        },
        {
          "output_type": "stream",
          "text": [
            "\n",
            "Epochs:  88%|████████▊ | 7/8 [32:39<04:40, 280.25s/it]\u001b[A"
          ],
          "name": "stderr"
        },
        {
          "output_type": "stream",
          "text": [
            "['train Loss: 0.2457 Acc: 0.9239', 'val Loss: 0.3356 Acc: 0.9087']\n"
          ],
          "name": "stdout"
        },
        {
          "output_type": "stream",
          "text": [
            "\n",
            "Epochs: 100%|██████████| 8/8 [37:20<00:00, 280.42s/it]\u001b[A\n",
            "\u001b[A"
          ],
          "name": "stderr"
        },
        {
          "output_type": "stream",
          "text": [
            "['train Loss: 0.2582 Acc: 0.9209', 'val Loss: 0.3952 Acc: 0.9073']\n"
          ],
          "name": "stdout"
        }
      ]
    },
    {
      "metadata": {
        "colab_type": "code",
        "id": "B-MbABoJjVDB",
        "colab": {
          "base_uri": "https://localhost:8080/",
          "height": 215
        },
        "outputId": "f7c25ef5-5b60-4da2-8bd0-67dee63509d0"
      },
      "cell_type": "code",
      "source": [
        "print(perClassAccuracy(model , myDataset.classes))"
      ],
      "execution_count": 40,
      "outputs": [
        {
          "output_type": "stream",
          "text": [
            "cat :- 91.6667 %\n",
            "deer :- 93.2331 %\n",
            "dog :- 98.0392 %\n",
            "elephant :- 96.0526 %\n",
            "fox :- 83.0882 %\n",
            "leopard :- 88.0503 %\n",
            "lion :- 89.9281 %\n",
            "monkey :- 93.6709 %\n",
            "tiger :- 94.702 %\n",
            "wolf :- 75.0 %\n",
            "total acc is 90.72664359861592%\n"
          ],
          "name": "stdout"
        }
      ]
    },
    {
      "metadata": {
        "colab_type": "code",
        "id": "RLhIDyk8kBmD",
        "colab": {}
      },
      "cell_type": "code",
      "source": [
        "createCheckpoint(filename=Path(\"./latestCheckpoint90_59\"))"
      ],
      "execution_count": 0,
      "outputs": []
    },
    {
      "metadata": {
        "colab_type": "code",
        "id": "f1J9kc1tktI4",
        "colab": {}
      },
      "cell_type": "code",
      "source": [
        "!cp latestCheckpoint90_59 gdrive/My\\ Drive/"
      ],
      "execution_count": 0,
      "outputs": []
    },
    {
      "metadata": {
        "colab_type": "code",
        "id": "bOrmcapqk4T8",
        "colab": {}
      },
      "cell_type": "code",
      "source": [
        ""
      ],
      "execution_count": 0,
      "outputs": []
    },
    {
      "metadata": {
        "colab_type": "text",
        "id": "y2zOz1_PmR71"
      },
      "cell_type": "markdown",
      "source": [
        "## So after getting 90 accuracy the model can be finetunned more and we stopped here because this the accuracy I obtained using Fast.ai v1 library\n",
        "1. By unfreezing more layers and training them\n",
        "2. By performing Data Augmentation\n",
        "\n"
      ]
    },
    {
      "metadata": {
        "colab_type": "text",
        "id": "lHr-4E238nXW"
      },
      "cell_type": "markdown",
      "source": [
        "# Additional Resources\n",
        "\n",
        "https://cs231n.github.io/transfer-learning/\n",
        "\n",
        "https://pytorch.org/tutorials/beginner/saving_loading_models.html\n",
        "\n",
        "https://pytorch.org/docs/stable/torchvision/index.html\n",
        "\n",
        "https://pytorch.org/docs/stable/optim.html"
      ]
    },
    {
      "metadata": {
        "colab_type": "code",
        "id": "jT0FW-N4mKrw",
        "colab": {}
      },
      "cell_type": "code",
      "source": [
        ""
      ],
      "execution_count": 0,
      "outputs": []
    },
    {
      "metadata": {
        "colab_type": "text",
        "id": "BjJc2jGigKcd"
      },
      "cell_type": "markdown",
      "source": [
        "# Assignment \n",
        " # Improve model to 93% accuracy and share the code"
      ]
    },
    {
      "metadata": {
        "colab_type": "code",
        "id": "YO00dXcEgOuo",
        "colab": {}
      },
      "cell_type": "code",
      "source": [
        ""
      ],
      "execution_count": 0,
      "outputs": []
    }
  ]
}